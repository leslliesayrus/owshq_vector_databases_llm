{
 "cells": [
  {
   "cell_type": "code",
   "execution_count": 3,
   "id": "db1e4ab6",
   "metadata": {},
   "outputs": [],
   "source": [
    "from langchain.document_loaders import YoutubeLoader\n",
    "from langchain.llms import OpenAI\n",
    "from langchain.chains.summarize import load_summarize_chain\n",
    "from langchain.text_splitter import RecursiveCharacterTextSplitter"
   ]
  },
  {
   "cell_type": "code",
   "execution_count": 5,
   "id": "f7bb48d5",
   "metadata": {},
   "outputs": [],
   "source": [
    "from dotenv import load_dotenv\n",
    "import os"
   ]
  },
  {
   "cell_type": "code",
   "execution_count": 6,
   "id": "a0f42a25",
   "metadata": {},
   "outputs": [
    {
     "data": {
      "text/plain": [
       "True"
      ]
     },
     "execution_count": 6,
     "metadata": {},
     "output_type": "execute_result"
    }
   ],
   "source": [
    "load_dotenv()"
   ]
  },
  {
   "cell_type": "code",
   "execution_count": 7,
   "id": "18245206",
   "metadata": {},
   "outputs": [],
   "source": [
    "OPENAI_API_KEY = os.environ.get(\"opemai)"
   ]
  },
  {
   "cell_type": "code",
   "execution_count": null,
   "id": "a68b1444",
   "metadata": {},
   "outputs": [],
   "source": [
    "#pip install chromadb youtube-transcript-api pytube"
   ]
  },
  {
   "cell_type": "code",
   "execution_count": null,
   "id": "88e8c009",
   "metadata": {},
   "outputs": [],
   "source": [
    "link = \"https://www.youtube.com/watch?v=xU-QMzKUc9c&t=7355s\""
   ]
  },
  {
   "cell_type": "code",
   "execution_count": null,
   "id": "092e3e72",
   "metadata": {},
   "outputs": [],
   "source": [
    "loader = YoutubeLoader.from_youtube_url(link, add_video_info=True, language=[\"pt\"])"
   ]
  },
  {
   "cell_type": "code",
   "execution_count": null,
   "id": "f75a694a",
   "metadata": {},
   "outputs": [],
   "source": [
    "result = loader.load()"
   ]
  },
  {
   "cell_type": "code",
   "execution_count": null,
   "id": "7df61402",
   "metadata": {
    "scrolled": true
   },
   "outputs": [],
   "source": [
    "result"
   ]
  },
  {
   "cell_type": "code",
   "execution_count": null,
   "id": "750d88eb",
   "metadata": {},
   "outputs": [],
   "source": [
    "text_splitter = RecursiveCharacterTextSplitter(chunk_size=1000, chunk_overlap=0)\n",
    "texts = text_splitter.split_documents(result)"
   ]
  },
  {
   "cell_type": "code",
   "execution_count": null,
   "id": "32b331e8",
   "metadata": {},
   "outputs": [],
   "source": [
    "print (f'Now you have {len(texts)} documents')"
   ]
  },
  {
   "cell_type": "code",
   "execution_count": null,
   "id": "1ebecf12",
   "metadata": {},
   "outputs": [],
   "source": [
    "texts[30]"
   ]
  },
  {
   "cell_type": "code",
   "execution_count": null,
   "id": "4d057595",
   "metadata": {},
   "outputs": [],
   "source": [
    "llm = OpenAI(temperature=0, openai_api_key=OPENAI_API_KEY)"
   ]
  },
  {
   "cell_type": "code",
   "execution_count": null,
   "id": "af542c5e",
   "metadata": {},
   "outputs": [],
   "source": [
    "from langchain.vectorstores import Chroma\n",
    "from langchain.embeddings.openai import OpenAIEmbeddings"
   ]
  },
  {
   "cell_type": "code",
   "execution_count": null,
   "id": "e90b761d",
   "metadata": {},
   "outputs": [],
   "source": [
    "embeddings = OpenAIEmbeddings(openai_api_key=OPENAI_API_KEY)"
   ]
  },
  {
   "cell_type": "code",
   "execution_count": null,
   "id": "b17e27e1",
   "metadata": {},
   "outputs": [],
   "source": [
    "store = Chroma.from_documents(\n",
    "texts, embeddings,\n",
    "ids = [f\"{item.metadata['source']}-{index}\" for index, item in enumerate(texts)],\n",
    "    collection_name = \"test\", persist_directory = 'db'\n",
    "    \n",
    ")"
   ]
  },
  {
   "cell_type": "code",
   "execution_count": null,
   "id": "3295e6b4",
   "metadata": {},
   "outputs": [],
   "source": [
    "store.persist()"
   ]
  },
  {
   "cell_type": "code",
   "execution_count": null,
   "id": "917d7674",
   "metadata": {},
   "outputs": [],
   "source": [
    "query = \"dicas para Engenharia de dados?\"\n",
    "docs = store.similarity_search(query)"
   ]
  },
  {
   "cell_type": "code",
   "execution_count": null,
   "id": "7493cd27",
   "metadata": {},
   "outputs": [],
   "source": [
    "from langchain.llms import OpenAI\n",
    "from langchain.chains.question_answering import load_qa_chain"
   ]
  },
  {
   "cell_type": "code",
   "execution_count": null,
   "id": "50fcbbc7",
   "metadata": {},
   "outputs": [],
   "source": [
    "#!pip install chromadb --user"
   ]
  },
  {
   "cell_type": "code",
   "execution_count": null,
   "id": "5d8d3a7a",
   "metadata": {},
   "outputs": [],
   "source": [
    "llm = OpenAI(temperature=0, openai_api_key=OPENAI_API_KEY)\n",
    "chain = load_qa_chain(llm, chain_type=\"stuff\")"
   ]
  },
  {
   "cell_type": "code",
   "execution_count": null,
   "id": "268e8493",
   "metadata": {},
   "outputs": [],
   "source": [
    "query = \"Quais os nomes dos convidados?\"\n",
    "docs = store.similarity_search(query)"
   ]
  },
  {
   "cell_type": "code",
   "execution_count": null,
   "id": "e3985721",
   "metadata": {},
   "outputs": [],
   "source": [
    "chain.run(input_documents=docs, question=query)"
   ]
  },
  {
   "cell_type": "code",
   "execution_count": null,
   "id": "4a2a6b6a",
   "metadata": {},
   "outputs": [],
   "source": []
  },
  {
   "cell_type": "code",
   "execution_count": null,
   "id": "e9309f95",
   "metadata": {},
   "outputs": [],
   "source": []
  },
  {
   "cell_type": "markdown",
   "id": "795972db",
   "metadata": {},
   "source": [
    "# LLM with Google Search"
   ]
  },
  {
   "cell_type": "code",
   "execution_count": null,
   "id": "fbbabe20",
   "metadata": {},
   "outputs": [],
   "source": [
    "#pip install google-search-results --user"
   ]
  },
  {
   "cell_type": "code",
   "execution_count": 1,
   "id": "0fe9421c",
   "metadata": {},
   "outputs": [],
   "source": [
    "from langchain.agents import load_tools\n",
    "from langchain.agents import initialize_agent\n",
    "import os"
   ]
  },
  {
   "cell_type": "code",
   "execution_count": 8,
   "id": "4082c9e4",
   "metadata": {
    "scrolled": true
   },
   "outputs": [],
   "source": [
    "llm = OpenAI(temperature=0, openai_api_key=OPENAI_API_KEY)"
   ]
  },
  {
   "cell_type": "code",
   "execution_count": 11,
   "id": "5cd73418",
   "metadata": {},
   "outputs": [],
   "source": [
    "os.environ['SERPAPI_API_KEY'] = os.environ.get(\"serapi\")"
   ]
  },
  {
   "cell_type": "code",
   "execution_count": 12,
   "id": "a22d8392",
   "metadata": {},
   "outputs": [],
   "source": [
    "tool_names = [\"serpapi\"]\n",
    "tools = load_tools(tool_names)"
   ]
  },
  {
   "cell_type": "code",
   "execution_count": 13,
   "id": "e7dea1dc",
   "metadata": {},
   "outputs": [],
   "source": [
    "agent = initialize_agent(tools, llm, agent=\"zero-shot-react-description\", verbose=True)"
   ]
  },
  {
   "cell_type": "code",
   "execution_count": 14,
   "id": "f1a1cf99",
   "metadata": {},
   "outputs": [
    {
     "name": "stdout",
     "output_type": "stream",
     "text": [
      "\n",
      "\n",
      "\u001b[1m> Entering new AgentExecutor chain...\u001b[0m\n",
      "\u001b[32;1m\u001b[1;3m I need to find out who is in the final of the 2023 Libertadores\n",
      "Action: Search\n",
      "Action Input: 2023 Libertadores Final\u001b[0m\n",
      "Observation: \u001b[36;1m\u001b[1;3m{'title': 'Copa Libertadores', 'rankings': 'Final', 'game_spotlight': {'league': 'Libertadores', 'stadium': 'Maracanã', 'date': 'Nov 4, 4:00 PM', 'stage': 'Final', 'teams': [{'name': 'Boca Juniors', 'thumbnail': 'https://serpapi.com/searches/6525b5b2ada54b52a68d75c8/images/886716489803890cfdf11a8d34b5e82677129b652eacb1989f6b555fdc54ddfce75dffb514d5a19cbe2d6860e2b9e693.png'}, {'name': 'Fluminense', 'thumbnail': 'https://serpapi.com/searches/6525b5b2ada54b52a68d75c8/images/886716489803890cfdf11a8d34b5e82677129b652eacb1989f6b555fdc54ddfc61a243ac05e1ba0b19cfea369f73e54c.png'}]}}\u001b[0m\n",
      "Thought:\u001b[32;1m\u001b[1;3m I now know the teams in the final of the 2023 Libertadores\n",
      "Final Answer: Boca Juniors and Fluminense are in the final of the 2023 Libertadores.\u001b[0m\n",
      "\n",
      "\u001b[1m> Finished chain.\u001b[0m\n"
     ]
    },
    {
     "data": {
      "text/plain": [
       "'Boca Juniors and Fluminense are in the final of the 2023 Libertadores.'"
      ]
     },
     "execution_count": 14,
     "metadata": {},
     "output_type": "execute_result"
    }
   ],
   "source": [
    "agent.run(\"Quem está na final da libertadores de 2023?\")"
   ]
  }
 ],
 "metadata": {
  "kernelspec": {
   "display_name": "Python 3 (ipykernel)",
   "language": "python",
   "name": "python3"
  },
  "language_info": {
   "codemirror_mode": {
    "name": "ipython",
    "version": 3
   },
   "file_extension": ".py",
   "mimetype": "text/x-python",
   "name": "python",
   "nbconvert_exporter": "python",
   "pygments_lexer": "ipython3",
   "version": "3.9.7"
  }
 },
 "nbformat": 4,
 "nbformat_minor": 5
}
